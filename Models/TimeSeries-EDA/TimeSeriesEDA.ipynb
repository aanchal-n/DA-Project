{
  "nbformat": 4,
  "nbformat_minor": 5,
  "metadata": {
    "kernelspec": {
      "display_name": "Python 3",
      "language": "python",
      "name": "python3"
    },
    "language_info": {
      "codemirror_mode": {
        "name": "ipython",
        "version": 3
      },
      "file_extension": ".py",
      "mimetype": "text/x-python",
      "name": "python",
      "nbconvert_exporter": "python",
      "pygments_lexer": "ipython3",
      "version": "3.7.10"
    },
    "papermill": {
      "default_parameters": {},
      "duration": 134.870433,
      "end_time": "2021-11-06T17:01:07.510959",
      "environment_variables": {},
      "exception": null,
      "input_path": "__notebook__.ipynb",
      "output_path": "__notebook__.ipynb",
      "parameters": {},
      "start_time": "2021-11-06T16:58:52.640526",
      "version": "2.3.3"
    },
    "colab": {
      "name": "TimeSeriesEDA.ipynb",
      "provenance": []
    }
  },
  "cells": [
    {
      "cell_type": "markdown",
      "metadata": {
        "papermill": {
          "duration": 0.282589,
          "end_time": "2021-11-06T17:00:15.074232",
          "exception": false,
          "start_time": "2021-11-06T17:00:14.791643",
          "status": "completed"
        },
        "tags": [],
        "id": "7364fbbc"
      },
      "source": [
        "# **Time Series Model**\n",
        "\n",
        "Time Series Models are a method of forecasting wherein we assume that the target variable varies with respect to Time. Here, our target variable is the \"Close\" value of a stock at the end of the trading period for the day. The problem statement falls under univariate time series forecasting since we are only concerned about the \"Close\" value and forecasting said value."
      ],
      "id": "7364fbbc"
    },
    {
      "cell_type": "markdown",
      "metadata": {
        "papermill": {
          "duration": 0.280677,
          "end_time": "2021-11-06T17:00:15.633562",
          "exception": false,
          "start_time": "2021-11-06T17:00:15.352885",
          "status": "completed"
        },
        "tags": [],
        "id": "905f14ce"
      },
      "source": [
        "## Exploratory Data Analysis"
      ],
      "id": "905f14ce"
    },
    {
      "cell_type": "markdown",
      "metadata": {
        "papermill": {
          "duration": 0.280962,
          "end_time": "2021-11-06T17:00:16.198164",
          "exception": false,
          "start_time": "2021-11-06T17:00:15.917202",
          "status": "completed"
        },
        "tags": [],
        "id": "684e8c14"
      },
      "source": [
        "By default, pandas loads all string columns with \"object\" datatype.However, in this case, it helps to parse the \"date\" column into DatetimeIndex format as we are focusing on building a model to forecast \"Close\" as a function of Time. We use the pd.to_datetime function to convert the date column to datetime format. We also set the date column as the index of the dataframe to help in easier plotting and manipulation of data"
      ],
      "id": "684e8c14"
    },
    {
      "cell_type": "code",
      "metadata": {
        "id": "mjXje60O-vRB"
      },
      "source": [
        "import pandas as pd"
      ],
      "id": "mjXje60O-vRB",
      "execution_count": 2,
      "outputs": []
    },
    {
      "cell_type": "code",
      "metadata": {
        "colab": {
          "resources": {
            "http://localhost:8080/nbextensions/google.colab/files.js": {
              "data": "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",
              "ok": true,
              "headers": [
                [
                  "content-type",
                  "application/javascript"
                ]
              ],
              "status": 200,
              "status_text": ""
            }
          },
          "base_uri": "https://localhost:8080/",
          "height": 107
        },
        "id": "toXsMtD9_Ug9",
        "outputId": "ab5d5ab5-1219-464f-b4b6-ea45f773d22c"
      },
      "source": [
        "from google.colab import files\n",
        "uploaded=files.upload()"
      ],
      "id": "toXsMtD9_Ug9",
      "execution_count": 3,
      "outputs": [
        {
          "output_type": "display_data",
          "data": {
            "text/html": [
              "\n",
              "     <input type=\"file\" id=\"files-8f19c22a-c6ad-42db-b427-f8efcd75fcb2\" name=\"files[]\" multiple disabled\n",
              "        style=\"border:none\" />\n",
              "     <output id=\"result-8f19c22a-c6ad-42db-b427-f8efcd75fcb2\">\n",
              "      Upload widget is only available when the cell has been executed in the\n",
              "      current browser session. Please rerun this cell to enable.\n",
              "      </output>\n",
              "      <script src=\"/nbextensions/google.colab/files.js\"></script> "
            ],
            "text/plain": [
              "<IPython.core.display.HTML object>"
            ]
          },
          "metadata": {}
        },
        {
          "output_type": "stream",
          "name": "stdout",
          "text": [
            "Saving Life Expectancy Data.csv to Life Expectancy Data.csv\n",
            "Saving number-of-deaths-by-risk-factor.csv to number-of-deaths-by-risk-factor.csv\n"
          ]
        }
      ]
    },
    {
      "cell_type": "markdown",
      "metadata": {
        "id": "sy35D6k1AAkJ"
      },
      "source": [
        "<h3> Loading the Data and Merging data <h3>"
      ],
      "id": "sy35D6k1AAkJ"
    },
    {
      "cell_type": "code",
      "metadata": {
        "execution": {
          "iopub.execute_input": "2021-11-06T17:00:16.766383Z",
          "iopub.status.busy": "2021-11-06T17:00:16.765539Z",
          "iopub.status.idle": "2021-11-06T17:00:16.776888Z",
          "shell.execute_reply": "2021-11-06T17:00:16.777337Z",
          "shell.execute_reply.started": "2021-11-06T16:55:41.910397Z"
        },
        "papermill": {
          "duration": 0.300293,
          "end_time": "2021-11-06T17:00:16.777493",
          "exception": false,
          "start_time": "2021-11-06T17:00:16.477200",
          "status": "completed"
        },
        "tags": [],
        "id": "14d7a55d"
      },
      "source": [
        "dfLifeExpectancy = pd.read_csv(\"Life Expectancy Data.csv\",parse_dates=True)\n",
        "dfDeaths = pd.read_csv(\"number-of-deaths-by-risk-factor.csv\")"
      ],
      "id": "14d7a55d",
      "execution_count": 14,
      "outputs": []
    },
    {
      "cell_type": "markdown",
      "metadata": {
        "id": "R1tZyMbKAhE0"
      },
      "source": [
        "<h4> Preprocessing Life Expectancy Dataset <h4>\n"
      ],
      "id": "R1tZyMbKAhE0"
    },
    {
      "cell_type": "code",
      "metadata": {
        "colab": {
          "base_uri": "https://localhost:8080/",
          "height": 372
        },
        "id": "33xoI9iSApoC",
        "outputId": "90256f07-cd22-4dfe-e01a-28dfc15e2dc7"
      },
      "source": [
        "dfLifeExpectancy.describe()"
      ],
      "id": "33xoI9iSApoC",
      "execution_count": 15,
      "outputs": [
        {
          "output_type": "execute_result",
          "data": {
            "text/html": [
              "<div>\n",
              "<style scoped>\n",
              "    .dataframe tbody tr th:only-of-type {\n",
              "        vertical-align: middle;\n",
              "    }\n",
              "\n",
              "    .dataframe tbody tr th {\n",
              "        vertical-align: top;\n",
              "    }\n",
              "\n",
              "    .dataframe thead th {\n",
              "        text-align: right;\n",
              "    }\n",
              "</style>\n",
              "<table border=\"1\" class=\"dataframe\">\n",
              "  <thead>\n",
              "    <tr style=\"text-align: right;\">\n",
              "      <th></th>\n",
              "      <th>Year</th>\n",
              "      <th>Life expectancy</th>\n",
              "      <th>Adult Mortality</th>\n",
              "      <th>infant deaths</th>\n",
              "      <th>Alcohol</th>\n",
              "      <th>percentage expenditure</th>\n",
              "      <th>Hepatitis B</th>\n",
              "      <th>Measles</th>\n",
              "      <th>BMI</th>\n",
              "      <th>under-five deaths</th>\n",
              "      <th>Polio</th>\n",
              "      <th>Total expenditure</th>\n",
              "      <th>Diphtheria</th>\n",
              "      <th>HIV/AIDS</th>\n",
              "      <th>GDP</th>\n",
              "      <th>Population</th>\n",
              "      <th>thinness  1-19 years</th>\n",
              "      <th>thinness 5-9 years</th>\n",
              "      <th>Income composition of resources</th>\n",
              "      <th>Schooling</th>\n",
              "    </tr>\n",
              "  </thead>\n",
              "  <tbody>\n",
              "    <tr>\n",
              "      <th>count</th>\n",
              "      <td>2938.000000</td>\n",
              "      <td>2928.000000</td>\n",
              "      <td>2928.000000</td>\n",
              "      <td>2938.000000</td>\n",
              "      <td>2744.000000</td>\n",
              "      <td>2938.000000</td>\n",
              "      <td>2385.000000</td>\n",
              "      <td>2938.000000</td>\n",
              "      <td>2904.000000</td>\n",
              "      <td>2938.000000</td>\n",
              "      <td>2919.000000</td>\n",
              "      <td>2712.00000</td>\n",
              "      <td>2919.000000</td>\n",
              "      <td>2938.000000</td>\n",
              "      <td>2490.000000</td>\n",
              "      <td>2.286000e+03</td>\n",
              "      <td>2904.000000</td>\n",
              "      <td>2904.000000</td>\n",
              "      <td>2771.000000</td>\n",
              "      <td>2775.000000</td>\n",
              "    </tr>\n",
              "    <tr>\n",
              "      <th>mean</th>\n",
              "      <td>2007.518720</td>\n",
              "      <td>69.224932</td>\n",
              "      <td>164.796448</td>\n",
              "      <td>30.303948</td>\n",
              "      <td>4.602861</td>\n",
              "      <td>738.251295</td>\n",
              "      <td>80.940461</td>\n",
              "      <td>2419.592240</td>\n",
              "      <td>38.321247</td>\n",
              "      <td>42.035739</td>\n",
              "      <td>82.550188</td>\n",
              "      <td>5.93819</td>\n",
              "      <td>82.324084</td>\n",
              "      <td>1.742103</td>\n",
              "      <td>7483.158469</td>\n",
              "      <td>1.275338e+07</td>\n",
              "      <td>4.839704</td>\n",
              "      <td>4.870317</td>\n",
              "      <td>0.627551</td>\n",
              "      <td>11.992793</td>\n",
              "    </tr>\n",
              "    <tr>\n",
              "      <th>std</th>\n",
              "      <td>4.613841</td>\n",
              "      <td>9.523867</td>\n",
              "      <td>124.292079</td>\n",
              "      <td>117.926501</td>\n",
              "      <td>4.052413</td>\n",
              "      <td>1987.914858</td>\n",
              "      <td>25.070016</td>\n",
              "      <td>11467.272489</td>\n",
              "      <td>20.044034</td>\n",
              "      <td>160.445548</td>\n",
              "      <td>23.428046</td>\n",
              "      <td>2.49832</td>\n",
              "      <td>23.716912</td>\n",
              "      <td>5.077785</td>\n",
              "      <td>14270.169342</td>\n",
              "      <td>6.101210e+07</td>\n",
              "      <td>4.420195</td>\n",
              "      <td>4.508882</td>\n",
              "      <td>0.210904</td>\n",
              "      <td>3.358920</td>\n",
              "    </tr>\n",
              "    <tr>\n",
              "      <th>min</th>\n",
              "      <td>2000.000000</td>\n",
              "      <td>36.300000</td>\n",
              "      <td>1.000000</td>\n",
              "      <td>0.000000</td>\n",
              "      <td>0.010000</td>\n",
              "      <td>0.000000</td>\n",
              "      <td>1.000000</td>\n",
              "      <td>0.000000</td>\n",
              "      <td>1.000000</td>\n",
              "      <td>0.000000</td>\n",
              "      <td>3.000000</td>\n",
              "      <td>0.37000</td>\n",
              "      <td>2.000000</td>\n",
              "      <td>0.100000</td>\n",
              "      <td>1.681350</td>\n",
              "      <td>3.400000e+01</td>\n",
              "      <td>0.100000</td>\n",
              "      <td>0.100000</td>\n",
              "      <td>0.000000</td>\n",
              "      <td>0.000000</td>\n",
              "    </tr>\n",
              "    <tr>\n",
              "      <th>25%</th>\n",
              "      <td>2004.000000</td>\n",
              "      <td>63.100000</td>\n",
              "      <td>74.000000</td>\n",
              "      <td>0.000000</td>\n",
              "      <td>0.877500</td>\n",
              "      <td>4.685343</td>\n",
              "      <td>77.000000</td>\n",
              "      <td>0.000000</td>\n",
              "      <td>19.300000</td>\n",
              "      <td>0.000000</td>\n",
              "      <td>78.000000</td>\n",
              "      <td>4.26000</td>\n",
              "      <td>78.000000</td>\n",
              "      <td>0.100000</td>\n",
              "      <td>463.935626</td>\n",
              "      <td>1.957932e+05</td>\n",
              "      <td>1.600000</td>\n",
              "      <td>1.500000</td>\n",
              "      <td>0.493000</td>\n",
              "      <td>10.100000</td>\n",
              "    </tr>\n",
              "    <tr>\n",
              "      <th>50%</th>\n",
              "      <td>2008.000000</td>\n",
              "      <td>72.100000</td>\n",
              "      <td>144.000000</td>\n",
              "      <td>3.000000</td>\n",
              "      <td>3.755000</td>\n",
              "      <td>64.912906</td>\n",
              "      <td>92.000000</td>\n",
              "      <td>17.000000</td>\n",
              "      <td>43.500000</td>\n",
              "      <td>4.000000</td>\n",
              "      <td>93.000000</td>\n",
              "      <td>5.75500</td>\n",
              "      <td>93.000000</td>\n",
              "      <td>0.100000</td>\n",
              "      <td>1766.947595</td>\n",
              "      <td>1.386542e+06</td>\n",
              "      <td>3.300000</td>\n",
              "      <td>3.300000</td>\n",
              "      <td>0.677000</td>\n",
              "      <td>12.300000</td>\n",
              "    </tr>\n",
              "    <tr>\n",
              "      <th>75%</th>\n",
              "      <td>2012.000000</td>\n",
              "      <td>75.700000</td>\n",
              "      <td>228.000000</td>\n",
              "      <td>22.000000</td>\n",
              "      <td>7.702500</td>\n",
              "      <td>441.534144</td>\n",
              "      <td>97.000000</td>\n",
              "      <td>360.250000</td>\n",
              "      <td>56.200000</td>\n",
              "      <td>28.000000</td>\n",
              "      <td>97.000000</td>\n",
              "      <td>7.49250</td>\n",
              "      <td>97.000000</td>\n",
              "      <td>0.800000</td>\n",
              "      <td>5910.806335</td>\n",
              "      <td>7.420359e+06</td>\n",
              "      <td>7.200000</td>\n",
              "      <td>7.200000</td>\n",
              "      <td>0.779000</td>\n",
              "      <td>14.300000</td>\n",
              "    </tr>\n",
              "    <tr>\n",
              "      <th>max</th>\n",
              "      <td>2015.000000</td>\n",
              "      <td>89.000000</td>\n",
              "      <td>723.000000</td>\n",
              "      <td>1800.000000</td>\n",
              "      <td>17.870000</td>\n",
              "      <td>19479.911610</td>\n",
              "      <td>99.000000</td>\n",
              "      <td>212183.000000</td>\n",
              "      <td>87.300000</td>\n",
              "      <td>2500.000000</td>\n",
              "      <td>99.000000</td>\n",
              "      <td>17.60000</td>\n",
              "      <td>99.000000</td>\n",
              "      <td>50.600000</td>\n",
              "      <td>119172.741800</td>\n",
              "      <td>1.293859e+09</td>\n",
              "      <td>27.700000</td>\n",
              "      <td>28.600000</td>\n",
              "      <td>0.948000</td>\n",
              "      <td>20.700000</td>\n",
              "    </tr>\n",
              "  </tbody>\n",
              "</table>\n",
              "</div>"
            ],
            "text/plain": [
              "              Year  ...    Schooling\n",
              "count  2938.000000  ...  2775.000000\n",
              "mean   2007.518720  ...    11.992793\n",
              "std       4.613841  ...     3.358920\n",
              "min    2000.000000  ...     0.000000\n",
              "25%    2004.000000  ...    10.100000\n",
              "50%    2008.000000  ...    12.300000\n",
              "75%    2012.000000  ...    14.300000\n",
              "max    2015.000000  ...    20.700000\n",
              "\n",
              "[8 rows x 20 columns]"
            ]
          },
          "metadata": {},
          "execution_count": 15
        }
      ]
    },
    {
      "cell_type": "markdown",
      "metadata": {
        "id": "P_OfU2OOC7ly"
      },
      "source": [
        "<h5> Setting proper format </h5>\n"
      ],
      "id": "P_OfU2OOC7ly"
    },
    {
      "cell_type": "code",
      "metadata": {
        "id": "4-eEDu3NAgET"
      },
      "source": [
        "dfLifeExpectancy['Year'] = pd.to_datetime(dfLifeExpectancy.Year, format='%Y') #Converting year to datetime format"
      ],
      "id": "4-eEDu3NAgET",
      "execution_count": 16,
      "outputs": []
    },
    {
      "cell_type": "code",
      "metadata": {
        "colab": {
          "base_uri": "https://localhost:8080/"
        },
        "id": "jrUcVw3xKCSQ",
        "outputId": "4099a351-0987-4984-f143-cc05ed7179db"
      },
      "source": [
        "dfLifeExpectancy.dtypes"
      ],
      "id": "jrUcVw3xKCSQ",
      "execution_count": 69,
      "outputs": [
        {
          "output_type": "execute_result",
          "data": {
            "text/plain": [
              "Country                                    object\n",
              "Year                               datetime64[ns]\n",
              "Status                                     object\n",
              "Life expectancy                           float64\n",
              "Adult Mortality                           float64\n",
              "infant deaths                               int64\n",
              "Alcohol                                   float64\n",
              "percentage expenditure                    float64\n",
              "Hepatitis B                               float64\n",
              "Measles                                     int64\n",
              " BMI                                      float64\n",
              "under-five deaths                           int64\n",
              "Polio                                     float64\n",
              "Total expenditure                         float64\n",
              "Diphtheria                                float64\n",
              " HIV/AIDS                                 float64\n",
              "GDP                                       float64\n",
              "Population                                float64\n",
              " thinness  1-19 years                     float64\n",
              " thinness 5-9 years                       float64\n",
              "Income composition of resources           float64\n",
              "Schooling                                 float64\n",
              "dtype: object"
            ]
          },
          "metadata": {},
          "execution_count": 69
        }
      ]
    },
    {
      "cell_type": "markdown",
      "metadata": {
        "id": "_3_006WODB75"
      },
      "source": [
        "<h5> Checking for Null values </h5>"
      ],
      "id": "_3_006WODB75"
    },
    {
      "cell_type": "code",
      "metadata": {
        "id": "1dIugB4pEIla"
      },
      "source": [
        "dfDummy = dfLifeExpectancy.dropna()"
      ],
      "id": "1dIugB4pEIla",
      "execution_count": 37,
      "outputs": []
    },
    {
      "cell_type": "code",
      "metadata": {
        "colab": {
          "base_uri": "https://localhost:8080/"
        },
        "id": "w0S92xkNFNll",
        "outputId": "9bab51fa-9dfc-4036-9e79-8a97f43945cb"
      },
      "source": [
        "dfDummy.shape"
      ],
      "id": "w0S92xkNFNll",
      "execution_count": 38,
      "outputs": [
        {
          "output_type": "execute_result",
          "data": {
            "text/plain": [
              "(1649, 22)"
            ]
          },
          "metadata": {},
          "execution_count": 38
        }
      ]
    },
    {
      "cell_type": "code",
      "metadata": {
        "colab": {
          "base_uri": "https://localhost:8080/"
        },
        "id": "xOlqob9FDx8K",
        "outputId": "d2db729c-e384-4f84-c0b0-c4b5918c9ddb"
      },
      "source": [
        "len(dfDummy['Country'].unique())"
      ],
      "id": "xOlqob9FDx8K",
      "execution_count": 39,
      "outputs": [
        {
          "output_type": "execute_result",
          "data": {
            "text/plain": [
              "133"
            ]
          },
          "metadata": {},
          "execution_count": 39
        }
      ]
    },
    {
      "cell_type": "code",
      "metadata": {
        "id": "H1mafi7EFbJi"
      },
      "source": [
        "missing = (dfDummy.isna().sum()).sort_values(ascending=False)"
      ],
      "id": "H1mafi7EFbJi",
      "execution_count": 63,
      "outputs": []
    },
    {
      "cell_type": "code",
      "metadata": {
        "id": "GkJ2NGvrF4kE"
      },
      "source": [
        "temp = pd.DataFrame(dfDummy.groupby('Country').count()['Year'])\n",
        "temp = temp[temp['Year'] >= 15]\n",
        "temp['Country'] = temp.index\n",
        "listOfCountries = list(temp['Country'])"
      ],
      "id": "GkJ2NGvrF4kE",
      "execution_count": 64,
      "outputs": []
    },
    {
      "cell_type": "code",
      "metadata": {
        "colab": {
          "base_uri": "https://localhost:8080/"
        },
        "id": "2q59Ev_jJj9U",
        "outputId": "21726756-24e8-4e5c-cb32-740722f268f5"
      },
      "source": [
        "dfLifeExpectancy = dfLifeExpectancy[dfLifeExpectancy['Country'].isin(listOfCountries)]\n",
        "dfLifeExpectancy.shape"
      ],
      "id": "2q59Ev_jJj9U",
      "execution_count": 66,
      "outputs": [
        {
          "output_type": "execute_result",
          "data": {
            "text/plain": [
              "(960, 22)"
            ]
          },
          "metadata": {},
          "execution_count": 66
        }
      ]
    },
    {
      "cell_type": "markdown",
      "metadata": {
        "papermill": {
          "duration": 0.285174,
          "end_time": "2021-11-06T17:00:18.261312",
          "exception": false,
          "start_time": "2021-11-06T17:00:17.976138",
          "status": "completed"
        },
        "tags": [],
        "id": "657e3a31"
      },
      "source": [
        "### Decomposing the components of Time Series"
      ],
      "id": "657e3a31"
    },
    {
      "cell_type": "markdown",
      "metadata": {
        "papermill": {
          "duration": 0.280866,
          "end_time": "2021-11-06T17:00:18.822342",
          "exception": false,
          "start_time": "2021-11-06T17:00:18.541476",
          "status": "completed"
        },
        "tags": [],
        "id": "3cc623ab"
      },
      "source": [
        "We plot the year stamp along with the life expectancy value for China and Germany. There is a clear trend line depicting increasing growth of life expectancy for China. "
      ],
      "id": "3cc623ab"
    },
    {
      "cell_type": "code",
      "metadata": {
        "id": "UCPTvgjaQGQJ"
      },
      "source": [
        "dfTimeSeriesChina = dfLifeExpectancy[dfLifeExpectancy['Country'] == 'China'][['Year','Life expectancy ']]"
      ],
      "id": "UCPTvgjaQGQJ",
      "execution_count": 109,
      "outputs": []
    },
    {
      "cell_type": "code",
      "metadata": {
        "colab": {
          "base_uri": "https://localhost:8080/",
          "height": 296
        },
        "id": "jq0wzwx3TfWD",
        "outputId": "4608f50a-74b1-4004-9eac-101af05cadf0"
      },
      "source": [
        "dfTimeSeriesChina.plot(x='Year', y='Life expectancy ')"
      ],
      "id": "jq0wzwx3TfWD",
      "execution_count": 110,
      "outputs": [
        {
          "output_type": "execute_result",
          "data": {
            "text/plain": [
              "<matplotlib.axes._subplots.AxesSubplot at 0x7fc959066790>"
            ]
          },
          "metadata": {},
          "execution_count": 110
        },
        {
          "output_type": "display_data",
          "data": {
            "image/png": "[encoded data removed]",
            "text/plain": [
              "<Figure size 432x288 with 1 Axes>"
            ]
          },
          "metadata": {
            "needs_background": "light"
          }
        }
      ]
    },
    {
      "cell_type": "markdown",
      "metadata": {
        "id": "bfkp-rNXUX9n"
      },
      "source": [
        "We plot the same graph for Germany. However, in this case we seem a varying trend line. Moroever both graphs, lack depiction of seasonality and cyclic nature. This could be due to the fact that the dataset only covers life expectancy from 2000 to 2015 which may not be enough to depict the other components"
      ],
      "id": "bfkp-rNXUX9n"
    },
    {
      "cell_type": "code",
      "metadata": {
        "id": "1_aFaiN9UFOp"
      },
      "source": [
        "dfTimeSeriesGermany = dfLifeExpectancy[dfLifeExpectancy['Country'] == 'Germany'][['Year','Life expectancy ']]"
      ],
      "id": "1_aFaiN9UFOp",
      "execution_count": 111,
      "outputs": []
    },
    {
      "cell_type": "code",
      "metadata": {
        "colab": {
          "base_uri": "https://localhost:8080/",
          "height": 296
        },
        "id": "4KTSKkCzUN2O",
        "outputId": "0294fa6e-92b8-430b-d7a0-7dfd8d060857"
      },
      "source": [
        "dfTimeSeriesGermany.plot(x='Year', y='Life expectancy ')"
      ],
      "id": "4KTSKkCzUN2O",
      "execution_count": 112,
      "outputs": [
        {
          "output_type": "execute_result",
          "data": {
            "text/plain": [
              "<matplotlib.axes._subplots.AxesSubplot at 0x7fc9591a7290>"
            ]
          },
          "metadata": {},
          "execution_count": 112
        },
        {
          "output_type": "display_data",
          "data": {
            "image/png": "[encoded data removed]",
            "text/plain": [
              "<Figure size 432x288 with 1 Axes>"
            ]
          },
          "metadata": {
            "needs_background": "light"
          }
        }
      ]
    },
    {
      "cell_type": "markdown",
      "metadata": {
        "papermill": {
          "duration": 0.287776,
          "end_time": "2021-11-06T17:00:20.236356",
          "exception": false,
          "start_time": "2021-11-06T17:00:19.948580",
          "status": "completed"
        },
        "tags": [],
        "id": "7644b37f"
      },
      "source": [
        "#### Considering Seasonality\n",
        "Seasonality is an important component of Time Series Forecasting. There are cases where removal of Seasonality helps accuracy while in other cases modelling seasonality better can improve accuracy. As previously identified, we notice that the graphs only have a trend component but lack seasonality "
      ],
      "id": "7644b37f"
    },
    {
      "cell_type": "code",
      "metadata": {
        "execution": {
          "iopub.execute_input": "2021-11-06T17:00:20.811188Z",
          "iopub.status.busy": "2021-11-06T17:00:20.810026Z",
          "iopub.status.idle": "2021-11-06T17:00:21.602395Z",
          "shell.execute_reply": "2021-11-06T17:00:21.601477Z",
          "shell.execute_reply.started": "2021-11-06T16:55:42.243633Z"
        },
        "papermill": {
          "duration": 1.081694,
          "end_time": "2021-11-06T17:00:21.602528",
          "exception": false,
          "start_time": "2021-11-06T17:00:20.520834",
          "status": "completed"
        },
        "tags": [],
        "colab": {
          "base_uri": "https://localhost:8080/",
          "height": 298
        },
        "id": "7b56c931",
        "outputId": "1d824e5c-cb06-4c5a-bc96-b340066a3bf0"
      },
      "source": [
        "from statsmodels.tsa.seasonal import seasonal_decompose\n",
        "\n",
        "analysis = dfTimeSeriesChina.copy()\n",
        "analysis = analysis.set_index('Year')\n",
        "analysis.head()\n",
        "analysis.sort_index(inplace=True)\n",
        "decompose_result_mult = seasonal_decompose(analysis, model=\"multiplicative\",freq=1)\n",
        "\n",
        "seasonal = decompose_result_mult.seasonal\n",
        "\n",
        "decompose_result_mult.plot();"
      ],
      "id": "7b56c931",
      "execution_count": 118,
      "outputs": [
        {
          "output_type": "display_data",
          "data": {
            "image/png": "[encoded data removed]",
            "text/plain": [
              "<Figure size 432x288 with 4 Axes>"
            ]
          },
          "metadata": {
            "needs_background": "light"
          }
        }
      ]
    },
    {
      "cell_type": "code",
      "metadata": {
        "colab": {
          "base_uri": "https://localhost:8080/",
          "height": 298
        },
        "id": "147IFW6nVegm",
        "outputId": "174c2f27-200a-48b7-9e5b-20e2afdfc3a8"
      },
      "source": [
        "from statsmodels.tsa.seasonal import seasonal_decompose\n",
        "\n",
        "analysis1 = dfTimeSeriesGermany.copy()\n",
        "analysis1 = analysis1.set_index('Year')\n",
        "analysis1.head()\n",
        "analysis1.sort_index(inplace=True)\n",
        "decompose_result_mult = seasonal_decompose(analysis1, model=\"multiplicative\",freq=1)\n",
        "\n",
        "seasonal = decompose_result_mult.seasonal\n",
        "\n",
        "decompose_result_mult.plot();"
      ],
      "id": "147IFW6nVegm",
      "execution_count": 119,
      "outputs": [
        {
          "output_type": "display_data",
          "data": {
            "image/png": "[encoded data removed]",
            "text/plain": [
              "<Figure size 432x288 with 4 Axes>"
            ]
          },
          "metadata": {
            "needs_background": "light"
          }
        }
      ]
    },
    {
      "cell_type": "markdown",
      "metadata": {
        "papermill": {
          "duration": 0.297195,
          "end_time": "2021-11-06T17:00:22.348843",
          "exception": false,
          "start_time": "2021-11-06T17:00:22.051648",
          "status": "completed"
        },
        "tags": [],
        "id": "633abb31"
      },
      "source": [
        "### Tests for Stationary Data <br>\n",
        "1. Visualisation tests: As we see in the above-decomposed graphs, there exists a clear trend line and some seasonality in the data. This is proof of the fact that the data is not stationary \n",
        "2. Summary statistics: Usually shown via histogram charts and various stats, such as Mean, Median and so on. With the histogram, we try to show that the data follows a normal curve. If it does, the data is stationary. With summary statistics, we try to show that there isn't a major difference between the summary statistics of buckets of data.\n",
        "3. Statistical tests: We use tests like the Augmented Dicky-Fuller test to show that the data is stationary. \n",
        "\n",
        "We have finished the first test as a part of our approach to decomposing data into its components. The second and third tests will be demonstrated in the cells below"
      ],
      "id": "633abb31"
    },
    {
      "cell_type": "markdown",
      "metadata": {
        "papermill": {
          "duration": 0.293316,
          "end_time": "2021-11-06T17:00:22.932349",
          "exception": false,
          "start_time": "2021-11-06T17:00:22.639033",
          "status": "completed"
        },
        "tags": [],
        "id": "7bc818f9"
      },
      "source": [
        "#### Using summary statistics to identify stationary data"
      ],
      "id": "7bc818f9"
    },
    {
      "cell_type": "markdown",
      "metadata": {
        "papermill": {
          "duration": 0.482161,
          "end_time": "2021-11-06T17:00:23.862395",
          "exception": false,
          "start_time": "2021-11-06T17:00:23.380234",
          "status": "completed"
        },
        "tags": [],
        "id": "b7b94492"
      },
      "source": [
        "We plot a histogram of the Close prices. Usually, for stationary data, the above histogram either has a normal distribution or an approximately normal distribution. However, in our case, we notice that the graph has a normal distribution for China but not for Germany"
      ],
      "id": "b7b94492"
    },
    {
      "cell_type": "code",
      "metadata": {
        "execution": {
          "iopub.execute_input": "2021-11-06T17:00:24.560408Z",
          "iopub.status.busy": "2021-11-06T17:00:24.559250Z",
          "iopub.status.idle": "2021-11-06T17:00:24.727580Z",
          "shell.execute_reply": "2021-11-06T17:00:24.727153Z",
          "shell.execute_reply.started": "2021-11-06T16:55:42.819690Z"
        },
        "papermill": {
          "duration": 0.482275,
          "end_time": "2021-11-06T17:00:24.727729",
          "exception": false,
          "start_time": "2021-11-06T17:00:24.245454",
          "status": "completed"
        },
        "tags": [],
        "colab": {
          "base_uri": "https://localhost:8080/",
          "height": 281
        },
        "id": "e2bf4024",
        "outputId": "8ec2ff69-da98-45d4-e2f1-bf7887e6a2f2"
      },
      "source": [
        "analysis.hist()\n",
        "pyplot.show()"
      ],
      "id": "e2bf4024",
      "execution_count": 120,
      "outputs": [
        {
          "output_type": "display_data",
          "data": {
            "image/png": "[encoded data removed]",
            "text/plain": [
              "<Figure size 432x288 with 1 Axes>"
            ]
          },
          "metadata": {
            "needs_background": "light"
          }
        }
      ]
    },
    {
      "cell_type": "code",
      "metadata": {
        "colab": {
          "base_uri": "https://localhost:8080/",
          "height": 281
        },
        "id": "S4AuuMyFV-RF",
        "outputId": "5ddf959f-e218-406c-c752-a32189cb49c0"
      },
      "source": [
        "analysis1.hist()\n",
        "pyplot.show()"
      ],
      "id": "S4AuuMyFV-RF",
      "execution_count": 121,
      "outputs": [
        {
          "output_type": "display_data",
          "data": {
            "image/png": "[encoded data removed]",
            "text/plain": [
              "<Figure size 432x288 with 1 Axes>"
            ]
          },
          "metadata": {
            "needs_background": "light"
          }
        }
      ]
    },
    {
      "cell_type": "markdown",
      "metadata": {
        "papermill": {
          "duration": 0.286492,
          "end_time": "2021-11-06T17:00:25.294466",
          "exception": false,
          "start_time": "2021-11-06T17:00:25.007974",
          "status": "completed"
        },
        "tags": [],
        "id": "f96eee92"
      },
      "source": [
        "We split the data into two buckets to test if the data is stationary. By nature, if the data is stationary, the mean and variance of the two buckets is the same or comparable. However, as see below, the mean is comparable for the two buckets and the variance differs from 0.6 "
      ],
      "id": "f96eee92"
    },
    {
      "cell_type": "code",
      "metadata": {
        "execution": {
          "iopub.execute_input": "2021-11-06T17:00:25.871978Z",
          "iopub.status.busy": "2021-11-06T17:00:25.870951Z",
          "iopub.status.idle": "2021-11-06T17:00:25.874301Z",
          "shell.execute_reply": "2021-11-06T17:00:25.873804Z",
          "shell.execute_reply.started": "2021-11-06T16:55:43.020589Z"
        },
        "papermill": {
          "duration": 0.296995,
          "end_time": "2021-11-06T17:00:25.874422",
          "exception": false,
          "start_time": "2021-11-06T17:00:25.577427",
          "status": "completed"
        },
        "tags": [],
        "colab": {
          "base_uri": "https://localhost:8080/"
        },
        "id": "fb0fad9c",
        "outputId": "58bceacf-a2b8-484e-a5b2-d6854e69fd35"
      },
      "source": [
        "X = analysis.values\n",
        "split = round(len(X) / 2)\n",
        "X1, X2 = X[0:split], X[split:]\n",
        "mean1, mean2 = X1.mean(), X2.mean()\n",
        "var1, var2 = X1.var(), X2.var()\n",
        "print('mean1=%f, mean2=%f' % (mean1, mean2))\n",
        "print('variance1=%f, variance2=%f' % (var1, var2))"
      ],
      "id": "fb0fad9c",
      "execution_count": 122,
      "outputs": [
        {
          "output_type": "stream",
          "name": "stdout",
          "text": [
            "mean1=73.212500, mean2=75.312500\n",
            "variance1=0.816094, variance2=0.236094\n"
          ]
        }
      ]
    },
    {
      "cell_type": "markdown",
      "metadata": {
        "papermill": {
          "duration": 0.284382,
          "end_time": "2021-11-06T17:00:26.440471",
          "exception": false,
          "start_time": "2021-11-06T17:00:26.156089",
          "status": "completed"
        },
        "tags": [],
        "id": "d85e4485"
      },
      "source": [
        "Based on the above graphs, we conclude that the time series data for a country is not stationary. This is also validated by the clear presence of a trend line. For the sake of this project, we limit ourselves to the data of one country i.e China"
      ],
      "id": "d85e4485"
    },
    {
      "cell_type": "markdown",
      "metadata": {
        "papermill": {
          "duration": 0.28735,
          "end_time": "2021-11-06T17:00:27.014927",
          "exception": false,
          "start_time": "2021-11-06T17:00:26.727577",
          "status": "completed"
        },
        "tags": [],
        "id": "f1e71936"
      },
      "source": [
        "#### Augmented Dicky-Fuller test to identify stationary data"
      ],
      "id": "f1e71936"
    },
    {
      "cell_type": "markdown",
      "metadata": {
        "papermill": {
          "duration": 0.289279,
          "end_time": "2021-11-06T17:00:27.589168",
          "exception": false,
          "start_time": "2021-11-06T17:00:27.299889",
          "status": "completed"
        },
        "tags": [],
        "id": "6211b15b"
      },
      "source": [
        "Augmented Dicky-Fuller Test: Post decomposition, we perform the Dicky-Fuller Test to verify if the given data is stationary. If the data is not stationary, we will have to perform transformations to make it stationary before proceeding with time series modelling. Although the clear presence of seasonality and trend supports our claim that the stock market data is not stationary. The ADF test helps in solidifying this claim. The ADF test is a hypothesis test wherein the null hypothesis is that the data has a unit root i.e the data is non-stationary."
      ],
      "id": "6211b15b"
    },
    {
      "cell_type": "code",
      "metadata": {
        "execution": {
          "iopub.execute_input": "2021-11-06T17:00:28.531620Z",
          "iopub.status.busy": "2021-11-06T17:00:28.530630Z",
          "iopub.status.idle": "2021-11-06T17:00:28.637990Z",
          "shell.execute_reply": "2021-11-06T17:00:28.639016Z",
          "shell.execute_reply.started": "2021-11-06T16:55:43.031744Z"
        },
        "papermill": {
          "duration": 0.403284,
          "end_time": "2021-11-06T17:00:28.639253",
          "exception": false,
          "start_time": "2021-11-06T17:00:28.235969",
          "status": "completed"
        },
        "tags": [],
        "colab": {
          "base_uri": "https://localhost:8080/"
        },
        "id": "2708a8dd",
        "outputId": "0a0eddc8-cc08-4d07-a8f4-0830a6233fa1"
      },
      "source": [
        "from statsmodels.tsa.stattools import adfuller\n",
        "\n",
        "CloseValues = analysis['Life expectancy '].values\n",
        "\n",
        "result = adfuller(CloseValues)\n",
        "print('ADF Statistic: %f' % result[0])\n",
        "print('p-value: %f' % result[1])\n",
        "print('Critical Values:')\n",
        "for key, value in result[4].items():\n",
        "\tprint('\\t%s: %.3f' % (key, value))"
      ],
      "id": "2708a8dd",
      "execution_count": 127,
      "outputs": [
        {
          "output_type": "stream",
          "name": "stdout",
          "text": [
            "ADF Statistic: -2.614703\n",
            "p-value: 0.089996\n",
            "Critical Values:\n",
            "\t1%: -4.012\n",
            "\t5%: -3.104\n",
            "\t10%: -2.691\n"
          ]
        }
      ]
    },
    {
      "cell_type": "markdown",
      "metadata": {
        "papermill": {
          "duration": 0.283399,
          "end_time": "2021-11-06T17:00:29.271818",
          "exception": false,
          "start_time": "2021-11-06T17:00:28.988419",
          "status": "completed"
        },
        "tags": [],
        "id": "527ba4ff"
      },
      "source": [
        "Here, we see that the ADF Statistic value is far greater than the critical value displayed. Due to this, we fail to reject the Null Hypothesis. If we fail to reject the Null Hypothesis, it implies that the data is non-Stationary. "
      ],
      "id": "527ba4ff"
    },
    {
      "cell_type": "markdown",
      "metadata": {
        "papermill": {
          "duration": 0.286733,
          "end_time": "2021-11-06T17:00:29.842509",
          "exception": false,
          "start_time": "2021-11-06T17:00:29.555776",
          "status": "completed"
        },
        "tags": [],
        "id": "80615076"
      },
      "source": [
        "### Auto-Correlation tests <br>\n",
        "Autocorrelation is a crucial feature in time series forecasting. When we talk about autocorrelation with a lag 'k', we want to find the correlation of the Close Price on day T with the Close Price on day T-K. It is important for the data to be correlated with each other since it guides the model in forecasting via the AutoRegressive (AR) parameter"
      ],
      "id": "80615076"
    },
    {
      "cell_type": "code",
      "metadata": {
        "execution": {
          "iopub.execute_input": "2021-11-06T17:00:30.419896Z",
          "iopub.status.busy": "2021-11-06T17:00:30.418133Z",
          "iopub.status.idle": "2021-11-06T17:00:30.647784Z",
          "shell.execute_reply": "2021-11-06T17:00:30.647321Z",
          "shell.execute_reply.started": "2021-11-06T16:55:43.103583Z"
        },
        "papermill": {
          "duration": 0.52136,
          "end_time": "2021-11-06T17:00:30.647914",
          "exception": false,
          "start_time": "2021-11-06T17:00:30.126554",
          "status": "completed"
        },
        "tags": [],
        "colab": {
          "base_uri": "https://localhost:8080/",
          "height": 350
        },
        "id": "d1ef2faa",
        "outputId": "896440ba-4a34-4c7d-fdfc-fa3e0821453c"
      },
      "source": [
        "from statsmodels.graphics.tsaplots import plot_acf\n",
        "import matplotlib.pyplot as plt\n",
        "fig1,ax1 = plt.subplots(figsize=(20, 5))\n",
        "ax1.set_xlabel(\"Number of Lags\")\n",
        "ax1.set_ylabel(\"Correlation coefficient\")\n",
        "plot_acf(analysis, lags=10, ax=ax1)\n",
        "plt.show()"
      ],
      "id": "d1ef2faa",
      "execution_count": 129,
      "outputs": [
        {
          "output_type": "display_data",
          "data": {
            "image/png": "[encoded data removed]",
            "text/plain": [
              "<Figure size 1440x360 with 1 Axes>"
            ]
          },
          "metadata": {
            "needs_background": "light"
          }
        }
      ]
    },
    {
      "cell_type": "markdown",
      "metadata": {
        "papermill": {
          "duration": 0.284155,
          "end_time": "2021-11-06T17:00:31.213945",
          "exception": false,
          "start_time": "2021-11-06T17:00:30.929790",
          "status": "completed"
        },
        "tags": [],
        "id": "596ac7fc"
      },
      "source": [
        "The highlighted portion represents the lags where correlation is no longer significant. Here, we notice that beyond a lag value of 2, the Life expectancy Value on the 3rd year and prior do not have an impact on the the value of the current year. "
      ],
      "id": "596ac7fc"
    },
    {
      "cell_type": "markdown",
      "metadata": {
        "papermill": {
          "duration": 0.286482,
          "end_time": "2021-11-06T17:00:31.792693",
          "exception": false,
          "start_time": "2021-11-06T17:00:31.506211",
          "status": "completed"
        },
        "tags": [],
        "id": "97670fb9"
      },
      "source": [
        "The Partial Correlation Function plots help us find out if there is any hidden information in the residual that can be used for modelling. We also use the PACF plots to identify the value of q or the Moving Average order "
      ],
      "id": "97670fb9"
    },
    {
      "cell_type": "code",
      "metadata": {
        "execution": {
          "iopub.execute_input": "2021-11-06T17:00:32.422701Z",
          "iopub.status.busy": "2021-11-06T17:00:32.421802Z",
          "iopub.status.idle": "2021-11-06T17:00:32.766129Z",
          "shell.execute_reply": "2021-11-06T17:00:32.766593Z",
          "shell.execute_reply.started": "2021-11-06T16:55:43.369220Z"
        },
        "papermill": {
          "duration": 0.688396,
          "end_time": "2021-11-06T17:00:32.766797",
          "exception": false,
          "start_time": "2021-11-06T17:00:32.078401",
          "status": "completed"
        },
        "tags": [],
        "colab": {
          "base_uri": "https://localhost:8080/",
          "height": 316
        },
        "id": "d4f11708",
        "outputId": "dd988b37-6114-4733-e8f0-42772ac9a1b5"
      },
      "source": [
        "from statsmodels.graphics.tsaplots import plot_pacf\n",
        "plot_pacf(analysis['Life expectancy ']);"
      ],
      "id": "d4f11708",
      "execution_count": 131,
      "outputs": [
        {
          "output_type": "stream",
          "name": "stderr",
          "text": [
            "/usr/local/lib/python3.7/dist-packages/statsmodels/regression/linear_model.py:1358: RuntimeWarning: invalid value encountered in sqrt\n",
            "  return rho, np.sqrt(sigmasq)\n"
          ]
        },
        {
          "output_type": "display_data",
          "data": {
            "image/png": "[encoded data removed]",
            "text/plain": [
              "<Figure size 432x288 with 1 Axes>"
            ]
          },
          "metadata": {
            "needs_background": "light"
          }
        }
      ]
    },
    {
      "cell_type": "markdown",
      "metadata": {
        "papermill": {
          "duration": 0.424625,
          "end_time": "2021-11-06T17:00:33.617333",
          "exception": false,
          "start_time": "2021-11-06T17:00:33.192708",
          "status": "completed"
        },
        "tags": [],
        "id": "7cbc01c6"
      },
      "source": [
        "### Conclusions of EDA <br>\n",
        "1. The data has clear trend line as shown via graphs \n",
        "2. The data has seasonality which is demonstrated via the graph decomposition \n",
        "3. The data is non-stationary as demonstrated via graphs, summary statistics and the ADF test \n",
        "4. There is a significant positive correlation for the first 2 lags "
      ],
      "id": "7cbc01c6"
    }
  ]
}